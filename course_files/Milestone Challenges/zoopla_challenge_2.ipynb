{
 "cells": [
  {
   "cell_type": "code",
   "execution_count": 1,
   "id": "61362e7c-a4cd-4516-835b-ea4648d9eb1b",
   "metadata": {},
   "outputs": [],
   "source": [
    "import pandas as pd"
   ]
  },
  {
   "cell_type": "code",
   "execution_count": 2,
   "id": "e8363c7d-2a1e-484f-9d25-40536d0cf774",
   "metadata": {},
   "outputs": [],
   "source": [
    "from selenium import webdriver \n",
    "from selenium.webdriver.common.by import By\n",
    "driver = webdriver.Chrome()\n",
    "import time\n"
   ]
  },
  {
   "cell_type": "code",
   "execution_count": 3,
   "id": "d9b6c9ae-3745-481b-98fe-3c7793d5de2b",
   "metadata": {},
   "outputs": [],
   "source": [
    "def load_and_accept_cookies() -> webdriver.Chrome:\n",
    "    '''\n",
    "    Open Zoopla and accept the cookies\n",
    "    \n",
    "    Returns\n",
    "    -------\n",
    "    driver: webdriver.Chrome\n",
    "        This driver is already in the Zoopla webpage\n",
    "    '''\n",
    "    driver = webdriver.Chrome() \n",
    "    URL = \"https://www.zoopla.co.uk/new-homes/property/london/?q=London&results_sort=newest_listings&search_source=new-homes&page_size=25&pn=1&view_type=list\"\n",
    "    driver.get(URL)\n",
    "    time.sleep(3) \n",
    "    try:\n",
    "        driver.switch_to_frame('gdpr-consent-notice') # This is the id of the frame\n",
    "        accept_cookies_button = driver.find_element(by=By.XPATH, value='//*[@id=\"save\"]')\n",
    "        accept_cookies_button.click()\n",
    "        time.sleep(1)\n",
    "    except AttributeError: # If you have the latest version of Selenium, the code above won't run because the \"switch_to_frame\" is deprecated\n",
    "        driver.switch_to.frame('gdpr-consent-notice') # This is the id of the frame\n",
    "        accept_cookies_button = driver.find_element(by=By.XPATH, value='//*[@id=\"save\"]')\n",
    "        accept_cookies_button.click()\n",
    "        time.sleep(1)\n",
    "\n",
    "    except:\n",
    "        pass\n",
    "\n",
    "    return driver \n",
    "\n",
    "def get_links(driver: webdriver.Chrome) -> list:\n",
    "    '''\n",
    "    Returns a list with all the links in the current page\n",
    "    Parameters\n",
    "    ----------\n",
    "    driver: webdriver.Chrome\n",
    "        The driver that contains information about the current page\n",
    "    \n",
    "    Returns\n",
    "    -------\n",
    "    link_list: list\n",
    "        A list with all the links in the page\n",
    "    '''\n",
    "\n",
    "    prop_container = driver.find_element(by=By.XPATH, value='//div[@class=\"css-1itfubx e5pbze00\"]')\n",
    "    prop_list = prop_container.find_elements(by=By.XPATH, value='./div')\n",
    "    link_list = []\n",
    "\n",
    "    for house_property in prop_list:\n",
    "        a_tag = house_property.find_element(by=By.TAG_NAME, value='a')\n",
    "        link = a_tag.get_attribute('href')\n",
    "        link_list.append(link)\n",
    "\n",
    "    return link_list"
   ]
  },
  {
   "cell_type": "code",
   "execution_count": 4,
   "id": "acac413f-adb0-47f9-9b08-7d219df38208",
   "metadata": {},
   "outputs": [],
   "source": [
    "big_list = []\n",
    "driver = load_and_accept_cookies()"
   ]
  },
  {
   "cell_type": "code",
   "execution_count": 25,
   "id": "3ce51c58-bd44-4379-a24b-2b329356d69f",
   "metadata": {},
   "outputs": [],
   "source": [
    "next_tag = driver.find_element(by=By.XPATH, value='//li[@class=\"css-qhg1xn-PaginationItemPreviousAndNext-PaginationItemNext eaoxhri2\"]')"
   ]
  },
  {
   "cell_type": "code",
   "execution_count": 11,
   "id": "16d5e550-79da-432c-b1e7-75dcf4d8c93a",
   "metadata": {},
   "outputs": [
    {
     "data": {
      "text/plain": [
       "<selenium.webdriver.remote.webelement.WebElement (session=\"33104853eaaf04d13079df91a79bf9bb\", element=\"b6d7e1a2-da34-4b1d-8462-37eb45497392\")>"
      ]
     },
     "execution_count": 11,
     "metadata": {},
     "output_type": "execute_result"
    }
   ],
   "source": [
    "next_tag"
   ]
  },
  {
   "cell_type": "code",
   "execution_count": 29,
   "id": "a526bdc5-d4b9-4d8e-9ebf-cade01b514a1",
   "metadata": {},
   "outputs": [],
   "source": [
    "next_button = next_tag.find_element(by=By.TAG_NAME, value='a')\n",
    "#driver.get(link)"
   ]
  },
  {
   "cell_type": "code",
   "execution_count": 31,
   "id": "b66e8173-0a4d-4175-8b64-02efc7d97081",
   "metadata": {},
   "outputs": [
    {
     "data": {
      "text/plain": [
       "'https://www.zoopla.co.uk/new-homes/property/london/?q=London&results_sort=newest_listings&search_source=new-homes&page_size=25&pn=2'"
      ]
     },
     "execution_count": 31,
     "metadata": {},
     "output_type": "execute_result"
    }
   ],
   "source": [
    "next_button.get_attribute('href')"
   ]
  },
  {
   "cell_type": "code",
   "execution_count": 27,
   "id": "dfab8c83-7db6-450b-87ed-881a578581f6",
   "metadata": {},
   "outputs": [
    {
     "name": "stdout",
     "output_type": "stream",
     "text": [
      "element.get_attribute('value'): 0\n"
     ]
    }
   ],
   "source": [
    "element_attribute_value = next_tag.get_attribute('value')\n",
    "\n",
    "print('element.get_attribute(\\'value\\'): {0}'.format(element_attribute_value))"
   ]
  },
  {
   "cell_type": "code",
   "execution_count": 28,
   "id": "bb5327a4-d8ad-4b1d-9248-4ac07729e4a4",
   "metadata": {},
   "outputs": [
    {
     "data": {
      "text/plain": [
       "'Next >'"
      ]
     },
     "execution_count": 28,
     "metadata": {},
     "output_type": "execute_result"
    }
   ],
   "source": [
    "next_tag.text"
   ]
  },
  {
   "cell_type": "code",
   "execution_count": null,
   "id": "37daecb8-203d-4dc3-b85e-de043cd89baf",
   "metadata": {},
   "outputs": [],
   "source": []
  }
 ],
 "metadata": {
  "kernelspec": {
   "display_name": "Python [conda env:root] *",
   "language": "python",
   "name": "conda-root-py"
  },
  "language_info": {
   "codemirror_mode": {
    "name": "ipython",
    "version": 3
   },
   "file_extension": ".py",
   "mimetype": "text/x-python",
   "name": "python",
   "nbconvert_exporter": "python",
   "pygments_lexer": "ipython3",
   "version": "3.10.5"
  }
 },
 "nbformat": 4,
 "nbformat_minor": 5
}
